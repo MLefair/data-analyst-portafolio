{
 "cells": [
  {
   "cell_type": "markdown",
   "id": "10dcc269-3659-4851-99cd-f1ffb7f818aa",
   "metadata": {
    "tags": []
   },
   "source": [
    "## The data\n",
    "The team assembled the following file:\n",
    "\n",
    "#### Redesign test data\n",
    "- \"treatment\" - \"yes\" if the user saw the new version of the landing page, no otherwise.\n",
    "- \"new_images\" - \"yes\" if the page used a new set of images, no otherwise.\n",
    "- \"converted\" - 1 if the user joined the site, 0 otherwise.\n",
    "\n",
    "The control group is those users with \"no\" in both columns: the old version with the old set of images."
   ]
  },
  {
   "cell_type": "code",
   "execution_count": 1,
   "id": "40251159-3eea-47f8-bfb4-09e38d5ced65",
   "metadata": {},
   "outputs": [
    {
     "data": {
      "text/html": [
       "<div>\n",
       "<style scoped>\n",
       "    .dataframe tbody tr th:only-of-type {\n",
       "        vertical-align: middle;\n",
       "    }\n",
       "\n",
       "    .dataframe tbody tr th {\n",
       "        vertical-align: top;\n",
       "    }\n",
       "\n",
       "    .dataframe thead th {\n",
       "        text-align: right;\n",
       "    }\n",
       "</style>\n",
       "<table border=\"1\" class=\"dataframe\">\n",
       "  <thead>\n",
       "    <tr style=\"text-align: right;\">\n",
       "      <th></th>\n",
       "      <th>treatment</th>\n",
       "      <th>new_images</th>\n",
       "      <th>converted</th>\n",
       "    </tr>\n",
       "  </thead>\n",
       "  <tbody>\n",
       "    <tr>\n",
       "      <th>0</th>\n",
       "      <td>yes</td>\n",
       "      <td>yes</td>\n",
       "      <td>0</td>\n",
       "    </tr>\n",
       "    <tr>\n",
       "      <th>1</th>\n",
       "      <td>yes</td>\n",
       "      <td>yes</td>\n",
       "      <td>0</td>\n",
       "    </tr>\n",
       "    <tr>\n",
       "      <th>2</th>\n",
       "      <td>yes</td>\n",
       "      <td>yes</td>\n",
       "      <td>0</td>\n",
       "    </tr>\n",
       "    <tr>\n",
       "      <th>3</th>\n",
       "      <td>yes</td>\n",
       "      <td>no</td>\n",
       "      <td>0</td>\n",
       "    </tr>\n",
       "    <tr>\n",
       "      <th>4</th>\n",
       "      <td>no</td>\n",
       "      <td>yes</td>\n",
       "      <td>0</td>\n",
       "    </tr>\n",
       "  </tbody>\n",
       "</table>\n",
       "</div>"
      ],
      "text/plain": [
       "  treatment new_images  converted\n",
       "0       yes        yes          0\n",
       "1       yes        yes          0\n",
       "2       yes        yes          0\n",
       "3       yes         no          0\n",
       "4        no        yes          0"
      ]
     },
     "execution_count": 1,
     "metadata": {},
     "output_type": "execute_result"
    }
   ],
   "source": [
    "import pandas as pd\n",
    "import numpy as np\n",
    "df = pd.read_csv('./data/redesign.csv')\n",
    "df.head()"
   ]
  },
  {
   "cell_type": "markdown",
   "id": "cfee41ef-4245-4f18-b567-8134696d9687",
   "metadata": {},
   "source": [
    "## Data Preparation"
   ]
  },
  {
   "cell_type": "code",
   "execution_count": 2,
   "id": "61d09a65-7a7f-43de-951b-decb042f5bd0",
   "metadata": {},
   "outputs": [
    {
     "data": {
      "text/plain": [
       "treatment  new_images  converted\n",
       "no         no          0            9037\n",
       "           yes         0            8982\n",
       "yes        yes         0            8970\n",
       "           no          0            8906\n",
       "                       1            1215\n",
       "           yes         1            1151\n",
       "no         yes         1            1139\n",
       "           no          1            1084\n",
       "dtype: int64"
      ]
     },
     "execution_count": 2,
     "metadata": {},
     "output_type": "execute_result"
    }
   ],
   "source": [
    "df.value_counts()"
   ]
  },
  {
   "cell_type": "code",
   "execution_count": 3,
   "id": "0e868f24-7086-4670-83f6-629429d5176e",
   "metadata": {},
   "outputs": [
    {
     "name": "stdout",
     "output_type": "stream",
     "text": [
      "<class 'pandas.core.frame.DataFrame'>\n",
      "RangeIndex: 40484 entries, 0 to 40483\n",
      "Data columns (total 3 columns):\n",
      " #   Column      Non-Null Count  Dtype \n",
      "---  ------      --------------  ----- \n",
      " 0   treatment   40484 non-null  object\n",
      " 1   new_images  40484 non-null  object\n",
      " 2   converted   40484 non-null  int64 \n",
      "dtypes: int64(1), object(2)\n",
      "memory usage: 949.0+ KB\n"
     ]
    }
   ],
   "source": [
    "df.info()"
   ]
  },
  {
   "cell_type": "markdown",
   "id": "88edff13-d5ba-47f5-aedd-13f5ea02fdc7",
   "metadata": {},
   "source": [
    "## Contingency Table of Convertion Rate"
   ]
  },
  {
   "cell_type": "code",
   "execution_count": 4,
   "id": "848925dc-b54d-4c9a-a9ad-fe50bad7df50",
   "metadata": {},
   "outputs": [
    {
     "name": "stdout",
     "output_type": "stream",
     "text": [
      "new_images               no              yes             Total\n",
      "treatment                                                     \n",
      "no          1084/2223 (49%)  1139/2223 (51%)  2223/2223 (100%)\n",
      "yes         1215/2366 (51%)  1151/2366 (49%)  2366/2366 (100%)\n",
      "Total       2299/4589 (50%)  2290/4589 (50%)  4589/4589 (100%)\n"
     ]
    }
   ],
   "source": [
    "# Create a contingency table using pivot_table\n",
    "contingency_table = pd.pivot_table(df, values='converted', index=['treatment'], columns=['new_images'], aggfunc=np.sum)\n",
    "\n",
    "# add the row and column totals\n",
    "contingency_table.loc['Total'] = contingency_table.sum()\n",
    "contingency_table['Total'] = contingency_table.sum(axis=1)\n",
    "\n",
    "# calculate the conversion rates and add them to the table\n",
    "contingency_table_percent = contingency_table.copy()\n",
    "for row in contingency_table_percent.index:\n",
    "    for col in contingency_table_percent.columns:\n",
    "        contingency_table_percent.loc[row, col] = f\"{int(contingency_table_percent.loc[row, col])}/{int(contingency_table.loc[row, 'Total'])} ({contingency_table_percent.loc[row, col] / contingency_table.loc[row, 'Total']:.0%})\"\n",
    "        \n",
    "# print the contingency table with the conversion rates\n",
    "print(contingency_table_percent)"
   ]
  },
  {
   "cell_type": "code",
   "execution_count": 5,
   "id": "e46a274c-6d93-4649-aa53-48ddf455fa92",
   "metadata": {},
   "outputs": [
    {
     "name": "stdout",
     "output_type": "stream",
     "text": [
      "A/B test results:\n",
      "Chi-square statistic: 2.97\n",
      "P-value: 0.0847\n"
     ]
    }
   ],
   "source": [
    "import scipy.stats as stats\n",
    "\n",
    "# Define the contingency table\n",
    "contingency_table = np.array([[1084, 1139], [1215, 1151]])\n",
    "\n",
    "# Calculate the chi-square statistic and p-value\n",
    "chi2_stat, p_val, dof, ex = stats.chi2_contingency(contingency_table)\n",
    "\n",
    "# Print the test results\n",
    "print(\"A/B test results:\")\n",
    "print(\"Chi-square statistic: {:.2f}\".format(chi2_stat))\n",
    "print(\"P-value: {:.4f}\".format(p_val))\n"
   ]
  },
  {
   "cell_type": "markdown",
   "id": "4a2b1112-4194-460b-a809-bdc9778388ae",
   "metadata": {},
   "source": [
    "From these results, we can say that the chi-square test statistic is 2.97 and the p-value is 0.0847. The p-value is greater than the common threshold of 0.05, which suggests that there is not enough evidence to reject the null hypothesis that the two treatments have the same conversion rate."
   ]
  },
  {
   "cell_type": "markdown",
   "id": "b5020d78-521e-493a-a5de-f4fddc0f237a",
   "metadata": {},
   "source": [
    "## Which version of the website should they use?\n",
    "\n",
    "Based solely on the results of the A/B test, we cannot definitively say which version of the website should be used. The test results suggest that there is not enough evidence to reject the null hypothesis that the two treatments have the same conversion rate. However, other factors such as the practical significance of any observed differences between the treatments should also be taken into consideration.\n",
    "\n",
    "Therefore, it is recommended to conduct further analysis and consider other factors before making a decision about which version of the website to use. This may include considering the cost and effort required to implement each version, user feedback and preferences, and any other relevant factors.\n",
    "\n",
    "Anyways we can make a suggestion based on the results in the contingency table visualized in a Pie Chart "
   ]
  },
  {
   "cell_type": "code",
   "execution_count": 6,
   "id": "0ee38309-309d-4fd8-8c74-55ccf1902bbe",
   "metadata": {},
   "outputs": [
    {
     "data": {
      "text/plain": [
       "([<matplotlib.patches.Wedge at 0x7fabb28d8be0>,\n",
       "  <matplotlib.patches.Wedge at 0x7fabb28ef220>,\n",
       "  <matplotlib.patches.Wedge at 0x7fabb28ef940>,\n",
       "  <matplotlib.patches.Wedge at 0x7fabb28fd0a0>],\n",
       " [Text(0.8107577237329527, 0.7434190698437599, 'No_No'),\n",
       "  Text(-0.7028592465149577, 0.8461612609830504, 'No_Yes'),\n",
       "  Text(-0.8168375880355241, -0.7367335710908711, 'Yes_No'),\n",
       "  Text(0.7758180497882989, -0.7798117424242088, 'Yes_Yes')],\n",
       " [Text(0.44223148567251963, 0.40550131082386903, '23.6%'),\n",
       "  Text(-0.38337777082634056, 0.46154250599075475, '24.8%'),\n",
       "  Text(-0.445547775292104, -0.4018546751404751, '26.5%'),\n",
       "  Text(0.42317348170270846, -0.42535185950411386, '25.1%')])"
      ]
     },
     "execution_count": 6,
     "metadata": {},
     "output_type": "execute_result"
    },
    {
     "data": {
      "image/png": "[encoded data removed]",
      "text/plain": [
       "<Figure size 640x480 with 1 Axes>"
      ]
     },
     "metadata": {},
     "output_type": "display_data"
    }
   ],
   "source": [
    "import matplotlib.pyplot as plt\n",
    "labels = 'No_No', 'No_Yes', 'Yes_No', 'Yes_Yes'\n",
    "sizes = contingency_table.flatten().tolist() \n",
    "\n",
    "fig, ax = plt.subplots()\n",
    "ax.pie(sizes, labels=labels, autopct='%1.1f%%')"
   ]
  },
  {
   "cell_type": "markdown",
   "id": "86a6af0a-f740-4eb0-b4e1-e7fc37e39632",
   "metadata": {},
   "source": [
    "In base to the Pai Chart we can suggest that the use of a **New Page Design in combination of Old Images** is the best way to follow, but also can say that this is no a risk decition, since the differences between these method and the others is not significant."
   ]
  }
 ],
 "metadata": {
  "kernelspec": {
   "display_name": "Python 3 (ipykernel)",
   "language": "python",
   "name": "python3"
  },
  "language_info": {
   "codemirror_mode": {
    "name": "ipython",
    "version": 3
   },
   "file_extension": ".py",
   "mimetype": "text/x-python",
   "name": "python",
   "nbconvert_exporter": "python",
   "pygments_lexer": "ipython3",
   "version": "3.9.16"
  }
 },
 "nbformat": 4,
 "nbformat_minor": 5
}
